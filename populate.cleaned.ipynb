{
 "cells": [
  {
   "cell_type": "code",
   "execution_count": null,
   "metadata": {},
   "outputs": [],
   "source": [
    "directory_path = \"./post-title/\"\n",
    "\n",
    "key_path = \"./image.key\"\n",
    "\n",
    "tags = [\"Michael Jordan\", \"Kobe Bryant\", \"Compete\"]\n",
    "\n",
    "overwrite = true\n",
    "\n",
    ";"
   ]
  },
  {
   "cell_type": "code",
   "execution_count": null,
   "metadata": {},
   "outputs": [],
   "source": [
    "function error_overwrite(path)\n",
    "    \n",
    "    if isfile(path) && !overwrite\n",
    "\n",
    "        error(\"$(path) exists and overwrite=false.\")\n",
    "\n",
    "    end\n",
    "    \n",
    "end"
   ]
  },
  {
   "cell_type": "code",
   "execution_count": null,
   "metadata": {},
   "outputs": [],
   "source": [
    "to_key_path = joinpath(directory_path, \"image.key\")\n",
    "\n",
    "error_overwrite(to_key_path)"
   ]
  },
  {
   "cell_type": "code",
   "execution_count": null,
   "metadata": {},
   "outputs": [],
   "source": [
    "cp(key_path, to_key_path; force = overwrite)"
   ]
  },
  {
   "cell_type": "code",
   "execution_count": null,
   "metadata": {},
   "outputs": [],
   "source": [
    "function format_to_title(string)\n",
    "\n",
    "    string_without_special_characters = replace(string, \"-\" => \" \")\n",
    "\n",
    "    return titlecase(string_without_special_characters)\n",
    "\n",
    "end"
   ]
  },
  {
   "cell_type": "code",
   "execution_count": null,
   "metadata": {},
   "outputs": [],
   "source": [
    "directory_path_without_possible_slash = rstrip(directory_path, '/')\n",
    "\n",
    "directory_name = basename(directory_path_without_possible_slash)\n",
    "\n",
    "title = format_to_title(directory_name)"
   ]
  },
  {
   "cell_type": "code",
   "execution_count": null,
   "metadata": {},
   "outputs": [],
   "source": [
    "image_names = [name for name in readdir(directory_path) if endswith(name, \".png\")]\n",
    "\n",
    "image_names_without_extension = [splitext(name)[1] for name in image_names]\n",
    "\n",
    "image_numbers = [parse(Int, name) for name in image_names_without_extension]\n",
    "\n",
    "image_numbers_sort = sort(image_numbers)\n",
    "\n",
    ";"
   ]
  },
  {
   "cell_type": "code",
   "execution_count": null,
   "metadata": {},
   "outputs": [],
   "source": [
    "md_path = joinpath(directory_path, \"index.md\")\n",
    "\n",
    "error_overwrite(md_path)"
   ]
  },
  {
   "cell_type": "code",
   "execution_count": null,
   "metadata": {},
   "outputs": [],
   "source": [
    "open(md_path, \"w\") do io\n",
    "    \n",
    "    write(io, \"\"\"\n",
    "---\n",
    "title: \"$(title)\"\n",
    "time: \"$(time)\"\n",
    "image: \"./image.jpeg\"\n",
    "topics: $(tags)\n",
    "---\n",
    "\"\"\"\n",
    ")\n",
    "    \n",
    "    for number in image_numbers_sort\n",
    "        \n",
    "        write(io, \"\"\"\\n![$(number)]($(number).png)\\n\"\"\")\n",
    "\n",
    "    end\n",
    "    \n",
    "end;"
   ]
  },
  {
   "cell_type": "code",
   "execution_count": null,
   "metadata": {},
   "outputs": [],
   "source": [
    "println(\"\"\"\n",
    "    This post is almost complete.\n",
    "    \n",
    "    Finalize it by:\n",
    "        1) Check index.md frontmatter title.\n",
    "        2) Edit image.key and export as image.jpeg.\n",
    "        3) Write index.md.\n",
    "    \n",
    "    Cheers.\n",
    "    \"\"\")"
   ]
  }
 ],
 "metadata": {
  "kernelspec": {
   "display_name": "Julia 1.5.3",
   "language": "julia",
   "name": "julia-1.5"
  },
  "language_info": {
   "file_extension": ".jl",
   "mimetype": "application/julia",
   "name": "julia",
   "version": "1.5.3"
  }
 },
 "nbformat": 4,
 "nbformat_minor": 4
}
